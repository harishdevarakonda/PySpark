{
 "cells": [
  {
   "cell_type": "code",
   "execution_count": 2,
   "id": "066003a9-e866-4555-aa47-718cd3f27d31",
   "metadata": {},
   "outputs": [
    {
     "name": "stdout",
     "output_type": "stream",
     "text": [
      "+------+------+------+-----+\n",
      "|emp_id|  name|salary|  loc|\n",
      "+------+------+------+-----+\n",
      "|     1|manish| 20000|india|\n",
      "|     2|  hari|  5000|   UK|\n",
      "|     3| rahul| 10000|india|\n",
      "|     4|   nil| 20000|india|\n",
      "|     5|   sil| 24000|   UK|\n",
      "|     6|  neha| 17000|   UK|\n",
      "+------+------+------+-----+\n",
      "\n"
     ]
    }
   ],
   "source": [
    "# create dataframe\n",
    "from pyspark.sql import SparkSession \n",
    "spark=SparkSession.builder.appName(\"Exampleapp\").getOrCreate()\n",
    "emp_df=spark.read.csv('employee.csv',header=True,inferSchema=True)\n",
    "emp_df.show()\n"
   ]
  },
  {
   "cell_type": "code",
   "execution_count": 4,
   "id": "3522c3b7-0133-44d8-82bf-dbefdbc6059c",
   "metadata": {},
   "outputs": [
    {
     "name": "stdout",
     "output_type": "stream",
     "text": [
      "+----+----------+------------+\n",
      "|user|department| designation|\n",
      "+----+----------+------------+\n",
      "|   1|        it|   software |\n",
      "|   2|     sales|data analyst|\n",
      "|   3|     other|     trainer|\n",
      "|   4|        it|data analyst|\n",
      "|   7|     other|   marketing|\n",
      "|   8|     other|       sales|\n",
      "+----+----------+------------+\n",
      "\n"
     ]
    }
   ],
   "source": [
    "dept_df=spark.read.csv('department.csv',header=True,inferSchema=True)\n",
    "dept_df.show()"
   ]
  },
  {
   "cell_type": "code",
   "execution_count": 5,
   "id": "644f4c13-40ea-471a-b8c2-188c4b40be04",
   "metadata": {},
   "outputs": [
    {
     "name": "stdout",
     "output_type": "stream",
     "text": [
      "+------+------+------+-----+----+----------+------------+\n",
      "|emp_id|  name|salary|  loc|user|department| designation|\n",
      "+------+------+------+-----+----+----------+------------+\n",
      "|     1|manish| 20000|india|   1|        it|   software |\n",
      "|     2|  hari|  5000|   UK|   2|     sales|data analyst|\n",
      "|     3| rahul| 10000|india|   3|     other|     trainer|\n",
      "|     4|   nil| 20000|india|   4|        it|data analyst|\n",
      "+------+------+------+-----+----+----------+------------+\n",
      "\n"
     ]
    }
   ],
   "source": [
    "#inner join \n",
    "emp_df.join(dept_df,emp_df.emp_id==dept_df.user,'inner').show()"
   ]
  },
  {
   "cell_type": "code",
   "execution_count": 6,
   "id": "d721b042-cf65-4764-98ca-29436f3353ca",
   "metadata": {},
   "outputs": [
    {
     "name": "stdout",
     "output_type": "stream",
     "text": [
      "+------+------+------+-----+----+----------+------------+\n",
      "|emp_id|  name|salary|  loc|user|department| designation|\n",
      "+------+------+------+-----+----+----------+------------+\n",
      "|     1|manish| 20000|india|   1|        it|   software |\n",
      "|     2|  hari|  5000|   UK|   2|     sales|data analyst|\n",
      "|     3| rahul| 10000|india|   3|     other|     trainer|\n",
      "|     4|   nil| 20000|india|   4|        it|data analyst|\n",
      "|     5|   sil| 24000|   UK|NULL|      NULL|        NULL|\n",
      "|     6|  neha| 17000|   UK|NULL|      NULL|        NULL|\n",
      "+------+------+------+-----+----+----------+------------+\n",
      "\n"
     ]
    }
   ],
   "source": [
    "#left join \n",
    "emp_df.join(dept_df,emp_df.emp_id==dept_df.user,'left').show()"
   ]
  },
  {
   "cell_type": "code",
   "execution_count": 7,
   "id": "5dc20d70-6af9-4ad4-92bf-5adb9d7fc2ac",
   "metadata": {},
   "outputs": [
    {
     "name": "stdout",
     "output_type": "stream",
     "text": [
      "+------+------+------+-----+----+----------+------------+\n",
      "|emp_id|  name|salary|  loc|user|department| designation|\n",
      "+------+------+------+-----+----+----------+------------+\n",
      "|     1|manish| 20000|india|   1|        it|   software |\n",
      "|     2|  hari|  5000|   UK|   2|     sales|data analyst|\n",
      "|     3| rahul| 10000|india|   3|     other|     trainer|\n",
      "|     4|   nil| 20000|india|   4|        it|data analyst|\n",
      "|  NULL|  NULL|  NULL| NULL|   7|     other|   marketing|\n",
      "|  NULL|  NULL|  NULL| NULL|   8|     other|       sales|\n",
      "+------+------+------+-----+----+----------+------------+\n",
      "\n"
     ]
    }
   ],
   "source": [
    "#right join \n",
    "emp_df.join(dept_df,emp_df.emp_id==dept_df.user,'right').show()"
   ]
  },
  {
   "cell_type": "code",
   "execution_count": 8,
   "id": "cfb29c0c-3a67-4941-abcb-6efa89ce4089",
   "metadata": {},
   "outputs": [
    {
     "name": "stdout",
     "output_type": "stream",
     "text": [
      "+------+------+------+-----+----+----------+------------+\n",
      "|emp_id|  name|salary|  loc|user|department| designation|\n",
      "+------+------+------+-----+----+----------+------------+\n",
      "|     1|manish| 20000|india|   1|        it|   software |\n",
      "|     2|  hari|  5000|   UK|   2|     sales|data analyst|\n",
      "|     3| rahul| 10000|india|   3|     other|     trainer|\n",
      "|     4|   nil| 20000|india|   4|        it|data analyst|\n",
      "|     5|   sil| 24000|   UK|NULL|      NULL|        NULL|\n",
      "|     6|  neha| 17000|   UK|NULL|      NULL|        NULL|\n",
      "|  NULL|  NULL|  NULL| NULL|   7|     other|   marketing|\n",
      "|  NULL|  NULL|  NULL| NULL|   8|     other|       sales|\n",
      "+------+------+------+-----+----+----------+------------+\n",
      "\n"
     ]
    }
   ],
   "source": [
    "#full outer join \n",
    "emp_df.join(dept_df,emp_df.emp_id==dept_df.user,'fullouter').show()"
   ]
  },
  {
   "cell_type": "code",
   "execution_count": 9,
   "id": "06c178f0-a8f5-4cbb-9655-5bc0e9dceca1",
   "metadata": {},
   "outputs": [
    {
     "name": "stdout",
     "output_type": "stream",
     "text": [
      "+------+------+------+-----+\n",
      "|emp_id|  name|salary|  loc|\n",
      "+------+------+------+-----+\n",
      "|     1|manish| 20000|india|\n",
      "|     2|  hari|  5000|   UK|\n",
      "|     3| rahul| 10000|india|\n",
      "|     4|   nil| 20000|india|\n",
      "+------+------+------+-----+\n",
      "\n"
     ]
    }
   ],
   "source": [
    "#left semi\n",
    "emp_df.join(dept_df,emp_df.emp_id==dept_df.user,'leftsemi').show()\n"
   ]
  },
  {
   "cell_type": "code",
   "execution_count": 10,
   "id": "7448f6ed-7fcf-4f4b-b806-43c51ed57f5e",
   "metadata": {},
   "outputs": [
    {
     "name": "stdout",
     "output_type": "stream",
     "text": [
      "+------+----+------+---+\n",
      "|emp_id|name|salary|loc|\n",
      "+------+----+------+---+\n",
      "|     5| sil| 24000| UK|\n",
      "|     6|neha| 17000| UK|\n",
      "+------+----+------+---+\n",
      "\n"
     ]
    }
   ],
   "source": [
    "#left anti\n",
    "#left semi\n",
    "emp_df.join(dept_df,emp_df.emp_id==dept_df.user,'leftanti').show()"
   ]
  },
  {
   "cell_type": "code",
   "execution_count": null,
   "id": "d8c8e493-8e99-43ca-ba6e-c67f069095db",
   "metadata": {},
   "outputs": [],
   "source": []
  }
 ],
 "metadata": {
  "kernelspec": {
   "display_name": "Python 3 (ipykernel)",
   "language": "python",
   "name": "python3"
  },
  "language_info": {
   "codemirror_mode": {
    "name": "ipython",
    "version": 3
   },
   "file_extension": ".py",
   "mimetype": "text/x-python",
   "name": "python",
   "nbconvert_exporter": "python",
   "pygments_lexer": "ipython3",
   "version": "3.11.4"
  }
 },
 "nbformat": 4,
 "nbformat_minor": 5
}
