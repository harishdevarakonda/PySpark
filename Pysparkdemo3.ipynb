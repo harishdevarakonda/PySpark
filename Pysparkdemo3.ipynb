{
 "cells": [
  {
   "cell_type": "code",
   "execution_count": 3,
   "id": "e92e3e4e-549c-4399-9dc4-73f856508b56",
   "metadata": {},
   "outputs": [],
   "source": [
    "# create dataframe\n",
    "from pyspark.sql import SparkSession \n",
    "spark=SparkSession.builder.appName(\"Exampleapp\").getOrCreate()\n",
    "df=spark.read.csv('Adidas_US_Sales_Datasets.csv',header=True,inferSchema=True)\n",
    "df.createOrReplaceTempView('sales_analysis')"
   ]
  },
  {
   "cell_type": "code",
   "execution_count": 4,
   "id": "2f034795-1341-4a12-b8bc-befb434b8f6b",
   "metadata": {},
   "outputs": [
    {
     "name": "stdout",
     "output_type": "stream",
     "text": [
      "+-----------+-----------+------------+---------+--------+--------+--------------------+--------------+----------+-----------+----------------+----------------+------------+\n",
      "|   Retailer|Retailer ID|Invoice Date|   Region|   State|    City|             Product|Price per Unit|Units Sold|Total Sales|Operating Profit|Operating Margin|Sales Method|\n",
      "+-----------+-----------+------------+---------+--------+--------+--------------------+--------------+----------+-----------+----------------+----------------+------------+\n",
      "|Foot Locker|    1185732|  01/01/2020|Northeast|New York|New York|Men's Street Foot...|          50.0|     1,200|   600,000 |        300,000 |             50%|    In-store|\n",
      "|Foot Locker|    1185732|  02/01/2020|Northeast|New York|New York|Men's Athletic Fo...|          50.0|     1,000|   500,000 |        150,000 |             30%|    In-store|\n",
      "|Foot Locker|    1185732|  03/01/2020|Northeast|New York|New York|Women's Street Fo...|          40.0|     1,000|   400,000 |        140,000 |             35%|    In-store|\n",
      "|Foot Locker|    1185732|  04/01/2020|Northeast|New York|New York|Women's Athletic ...|          45.0|       850|   382,500 |        133,875 |             35%|    In-store|\n",
      "|Foot Locker|    1185732|  05/01/2020|Northeast|New York|New York|       Men's Apparel|          60.0|       900|   540,000 |        162,000 |             30%|    In-store|\n",
      "|Foot Locker|    1185732|  06/01/2020|Northeast|New York|New York|     Women's Apparel|          50.0|     1,000|   500,000 |        125,000 |             25%|    In-store|\n",
      "|Foot Locker|    1185732|  07/01/2020|Northeast|New York|New York|Men's Street Foot...|          50.0|     1,250|   625,000 |        312,500 |             50%|    In-store|\n",
      "|Foot Locker|    1185732|  08/01/2020|Northeast|New York|New York|Men's Athletic Fo...|          50.0|       900|   450,000 |        135,000 |             30%|      Outlet|\n",
      "|Foot Locker|    1185732|  21/01/2020|Northeast|New York|New York|Women's Street Fo...|          40.0|       950|   380,000 |        133,000 |             35%|      Outlet|\n",
      "|Foot Locker|    1185732|  22/01/2020|Northeast|New York|New York|Women's Athletic ...|          45.0|       825|   371,250 |        129,938 |             35%|      Outlet|\n",
      "|Foot Locker|    1185732|  23/01/2020|Northeast|New York|New York|       Men's Apparel|          60.0|       900|   540,000 |        162,000 |             30%|      Outlet|\n",
      "|Foot Locker|    1185732|  24/01/2020|Northeast|New York|New York|     Women's Apparel|          50.0|     1,000|   500,000 |        125,000 |             25%|      Outlet|\n",
      "|Foot Locker|    1185732|  25/01/2020|Northeast|New York|New York|Men's Street Foot...|          50.0|     1,220|   610,000 |        305,000 |             50%|      Outlet|\n",
      "|Foot Locker|    1185732|  26/01/2020|Northeast|New York|New York|Men's Athletic Fo...|          50.0|       925|   462,500 |        138,750 |             30%|      Outlet|\n",
      "|Foot Locker|    1185732|  27/01/2020|Northeast|New York|New York|Women's Street Fo...|          40.0|       950|   380,000 |        133,000 |             35%|      Outlet|\n",
      "|Foot Locker|    1185732|  28/01/2020|Northeast|New York|New York|Women's Athletic ...|          45.0|       800|   360,000 |        126,000 |             35%|      Outlet|\n",
      "|Foot Locker|    1185732|  29/01/2020|Northeast|New York|New York|       Men's Apparel|          60.0|       850|   510,000 |        153,000 |             30%|      Outlet|\n",
      "|Foot Locker|    1185732|  30/01/2020|Northeast|New York|New York|     Women's Apparel|          50.0|       950|   475,000 |        118,750 |             25%|      Outlet|\n",
      "|Foot Locker|    1185732|  31/01/2020|Northeast|New York|New York|Men's Street Foot...|          50.0|     1,200|   600,000 |        300,000 |             50%|      Outlet|\n",
      "|Foot Locker|    1185732|  01/02/2020|Northeast|New York|New York|Men's Athletic Fo...|          50.0|       900|   450,000 |        135,000 |             30%|      Outlet|\n",
      "+-----------+-----------+------------+---------+--------+--------+--------------------+--------------+----------+-----------+----------------+----------------+------------+\n",
      "only showing top 20 rows\n",
      "\n"
     ]
    }
   ],
   "source": [
    "#read data\n",
    "query1=spark.sql('select * from sales_analysis')\n",
    "query1.show()"
   ]
  },
  {
   "cell_type": "code",
   "execution_count": 5,
   "id": "1c5c9158-7c2a-43cf-9d40-27104366f4d7",
   "metadata": {},
   "outputs": [
    {
     "name": "stdout",
     "output_type": "stream",
     "text": [
      "+-----------+------------+\n",
      "|total_sales|total_profit|\n",
      "+-----------+------------+\n",
      "|   107905.0|    635412.0|\n",
      "+-----------+------------+\n",
      "\n"
     ]
    }
   ],
   "source": [
    "#total sales,Total profit,\n",
    "query2=spark.sql('select sum(`total sales`)total_sales,sum(`Operating Profit`) total_profit from sales_analysis')\n",
    "query2.show()\n",
    "#Average price  unit and total unit sold "
   ]
  },
  {
   "cell_type": "code",
   "execution_count": null,
   "id": "07ff986b-71a7-4f02-baa2-e8d1eca5b68d",
   "metadata": {},
   "outputs": [],
   "source": []
  }
 ],
 "metadata": {
  "kernelspec": {
   "display_name": "Python 3 (ipykernel)",
   "language": "python",
   "name": "python3"
  },
  "language_info": {
   "codemirror_mode": {
    "name": "ipython",
    "version": 3
   },
   "file_extension": ".py",
   "mimetype": "text/x-python",
   "name": "python",
   "nbconvert_exporter": "python",
   "pygments_lexer": "ipython3",
   "version": "3.11.4"
  }
 },
 "nbformat": 4,
 "nbformat_minor": 5
}
